{
 "cells": [
  {
   "cell_type": "markdown",
   "metadata": {},
   "source": [
    "# Shipping and Pricing\n",
    "\n",
    "Shipping and Pricing of any E-commerce Company is a problem. Similar kind of problem is with www.Graborbuy.com. Mr. George Lee, chairman of www.GraborBuy.com has a problem in setting up Shipment charge and Delivery mode and date.\n",
    "<br><br>\n",
    "Due to this, they fail to provide delivery on time or predict the estimation and provide those to the customers.\n",
    "<br><br>\n",
    "Hence their business has dropped by 35% which was creating a business loss and none of the stakeholders was happy with it.\n",
    "<br><br>\n",
    "Predicting and forecasting about the estimationis has lots of factors to be defined and is a myth as per many Stakeholders. Mr. George Lee then decides to go for all the analytical help related to this problem:\n",
    "<li> Finding the Correlation between product and time\n",
    "<li> Forecasting on price and delivery dates\n",
    "<li> Evaluating Product Trends"
   ]
  },
  {
   "cell_type": "code",
   "execution_count": null,
   "metadata": {},
   "outputs": [],
   "source": []
  }
 ],
 "metadata": {
  "kernelspec": {
   "display_name": "Python 3",
   "language": "python",
   "name": "python3"
  },
  "language_info": {
   "codemirror_mode": {
    "name": "ipython",
    "version": 3
   },
   "file_extension": ".py",
   "mimetype": "text/x-python",
   "name": "python",
   "nbconvert_exporter": "python",
   "pygments_lexer": "ipython3",
   "version": "3.6.8"
  }
 },
 "nbformat": 4,
 "nbformat_minor": 2
}
